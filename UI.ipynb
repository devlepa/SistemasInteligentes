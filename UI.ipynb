{
 "cells": [
  {
   "cell_type": "code",
   "execution_count": 6,
   "metadata": {},
   "outputs": [
    {
     "name": "stdout",
     "output_type": "stream",
     "text": [
      "Punto 1:\n",
      "Ingrese las coordenadas del punto en 4 dimensiones (separadas por espacio):\n",
      "Punto 2:\n",
      "Ingrese las coordenadas del punto en 4 dimensiones (separadas por espacio):\n",
      "\n",
      "Cálculos de distancias:\n",
      "Manhattan: 8.0\n",
      "Euclidiana: 4.898979485566356\n",
      "Chebyshev: 4.0\n",
      "Canberra: 1.99999999995\n",
      "Mahalanobis: 1.414212550848369\n",
      "Wasserstein: 1.0\n",
      "\n",
      "Resumen de puntos ingresados:\n",
      "Punto 1: Point(dim=4, values=[0.0, 1.0, 2.0, 3.0])\n",
      "Punto 2: Point(dim=4, values=[4.0, 3.0, 2.0, 1.0])\n",
      "La visualización gráfica solo está disponible para 2 o 3 dimensiones.\n"
     ]
    }
   ],
   "source": []
  }
 ],
 "metadata": {
  "kernelspec": {
   "display_name": "Python 3",
   "language": "python",
   "name": "python3"
  },
  "language_info": {
   "codemirror_mode": {
    "name": "ipython",
    "version": 3
   },
   "file_extension": ".py",
   "mimetype": "text/x-python",
   "name": "python",
   "nbconvert_exporter": "python",
   "pygments_lexer": "ipython3",
   "version": "3.12.3"
  }
 },
 "nbformat": 4,
 "nbformat_minor": 2
}
